{
 "cells": [
  {
   "cell_type": "code",
   "execution_count": 45,
   "id": "5fe2f95e",
   "metadata": {},
   "outputs": [],
   "source": [
    "import os\n",
    "import pickle\n",
    "import random\n",
    "import pandas as pd\n",
    "import numpy as np\n",
    "from matplotlib import pyplot as plt\n",
    "import seaborn as sns"
   ]
  },
  {
   "cell_type": "code",
   "execution_count": 2,
   "id": "eb3e5d54",
   "metadata": {},
   "outputs": [],
   "source": [
    "# import os\n",
    "# import pickle\n",
    "# import random\n",
    "# import pandas as pd\n",
    "# from itertools import chain\n",
    "# from tqdm import tqdm\n",
    "# from imblearn.over_sampling import SMOTE\n",
    "# from collections import Counter\n",
    "# import scipy\n",
    "# import numpy as np\n",
    "# from sklearn.feature_extraction.text import TfidfVectorizer\n",
    "\n",
    "# from matplotlib import pyplot as plt\n",
    "# import seaborn as sns"
   ]
  },
  {
   "cell_type": "code",
   "execution_count": 3,
   "id": "b48da8d2",
   "metadata": {},
   "outputs": [],
   "source": [
    "random.seed(2022)"
   ]
  },
  {
   "cell_type": "markdown",
   "id": "9607855f",
   "metadata": {},
   "source": [
    "### Loading data"
   ]
  },
  {
   "cell_type": "code",
   "execution_count": 4,
   "id": "9d51b1b2",
   "metadata": {},
   "outputs": [],
   "source": [
    "# load part-of-speech triplets and function words;\n",
    "# they will later be used as features\n",
    "\n",
    "POS_TRIGRAMS = pickle.load(open('english/pos_trigrams.pkl', 'rb'))\n",
    "FUNCTION_WORDS = pickle.load(open('english/function_words.pkl', 'rb'))"
   ]
  },
  {
   "cell_type": "code",
   "execution_count": 5,
   "id": "e5cc8f8d",
   "metadata": {},
   "outputs": [],
   "source": [
    "toefl_dir = \"../data/toefl/\"\n",
    "locness_dir = \"../data/locness/\"\n",
    "\n",
    "toefl_meta = \"/home/uliana/Dropbox/Projects/EFL/TOEFL/TOEFL/data/index.csv\""
   ]
  },
  {
   "cell_type": "code",
   "execution_count": 6,
   "id": "230923a1",
   "metadata": {},
   "outputs": [],
   "source": [
    "# read metadata of the TOEFL corpus\n",
    "metadata = pd.read_csv(toefl_meta)"
   ]
  },
  {
   "cell_type": "code",
   "execution_count": 7,
   "id": "4f00c562",
   "metadata": {},
   "outputs": [],
   "source": [
    "# load texts from the TOEFL corpus\n",
    "\n",
    "metadata['Filename'] = toefl_dir + metadata['Filename']\n",
    "by_level = metadata.groupby('Score Level')\n",
    "\n",
    "files_high = metadata.loc[by_level.groups['high'], 'Filename']\n",
    "files_medium = metadata.loc[by_level.groups['medium'], 'Filename']\n",
    "files_low = metadata.loc[by_level.groups['low'], 'Filename']"
   ]
  },
  {
   "cell_type": "code",
   "execution_count": 8,
   "id": "df52cb81",
   "metadata": {},
   "outputs": [],
   "source": [
    "# load texts from the LOCNESS corpus\n",
    "files_native = os.listdir(locness_dir)\n",
    "files_native = [locness_dir + file for file in files_native]"
   ]
  },
  {
   "cell_type": "code",
   "execution_count": 9,
   "id": "d308ab67",
   "metadata": {},
   "outputs": [
    {
     "name": "stdout",
     "output_type": "stream",
     "text": [
      "Number of essays for level NATIVE: 412.\n",
      "Number of essays for level HIGH: 4202.\n",
      "Number of essays for level MEDIUM: 6568.\n",
      "Number of essays for level LOW: 1330.\n"
     ]
    }
   ],
   "source": [
    "print(f\"Number of essays for level NATIVE: {len(files_native)}.\")\n",
    "print(f\"Number of essays for level HIGH: {len(files_high)}.\")\n",
    "print(f\"Number of essays for level MEDIUM: {len(files_medium)}.\")\n",
    "print(f\"Number of essays for level LOW: {len(files_low)}.\")"
   ]
  },
  {
   "cell_type": "code",
   "execution_count": 10,
   "id": "9873052d",
   "metadata": {},
   "outputs": [],
   "source": [
    "def read_sentences(files):\n",
    "    for file in files:\n",
    "        with open(file, 'r', encoding='utf-8') as f:\n",
    "            for line in f:\n",
    "                line = line.strip()\n",
    "                if line:\n",
    "                    yield line.split()"
   ]
  },
  {
   "cell_type": "code",
   "execution_count": 11,
   "id": "13c542cc",
   "metadata": {},
   "outputs": [],
   "source": [
    "sentences = {\n",
    "    \"high\": list(read_sentences(files_high)),\n",
    "    \"medium\": list(read_sentences(files_medium)),\n",
    "    \"low\": list(read_sentences(files_low)),\n",
    "    \"native\": list(read_sentences(files_native))\n",
    "}"
   ]
  },
  {
   "cell_type": "code",
   "execution_count": 12,
   "id": "cea0aeae",
   "metadata": {},
   "outputs": [
    {
     "name": "stdout",
     "output_type": "stream",
     "text": [
      "Number of sentences for level HIGH: 75027.\n",
      "Number of sentences for level MEDIUM: 104431.\n",
      "Number of sentences for level LOW: 15363.\n",
      "Number of sentences for level NATIVE: 16235.\n"
     ]
    }
   ],
   "source": [
    "for level in sentences:\n",
    "    print(f\"Number of sentences for level {level.upper()}: {len(sentences[level])}.\")"
   ]
  },
  {
   "cell_type": "markdown",
   "id": "21278e98",
   "metadata": {},
   "source": [
    "## Preparing data for classification"
   ]
  },
  {
   "cell_type": "markdown",
   "id": "b3c9ebf0",
   "metadata": {},
   "source": [
    "### Create and shuffle chunks"
   ]
  },
  {
   "cell_type": "code",
   "execution_count": 13,
   "id": "8fab141c",
   "metadata": {},
   "outputs": [],
   "source": [
    "def create_chunks(sents):\n",
    "    chunks = []\n",
    "    word_count = 0\n",
    "    chunk = []\n",
    "    \n",
    "    for sent in sents:\n",
    "        if word_count >= 1000:\n",
    "            chunks.append(chunk)\n",
    "            chunk = []\n",
    "            word_count = 0\n",
    "        chunk.extend(sent)\n",
    "        word_count += len(sent)\n",
    "    return chunks"
   ]
  },
  {
   "cell_type": "code",
   "execution_count": 14,
   "id": "1b9e98c9",
   "metadata": {},
   "outputs": [],
   "source": [
    "for level in sentences:\n",
    "    random.shuffle(sentences[level])"
   ]
  },
  {
   "cell_type": "code",
   "execution_count": 15,
   "id": "a2876408",
   "metadata": {},
   "outputs": [],
   "source": [
    "chunks_low = create_chunks(sentences['low'])\n",
    "chunks_medium = create_chunks(sentences['medium'])\n",
    "chunks_high = create_chunks(sentences['high'])\n",
    "chunks_native = create_chunks(sentences['native'])"
   ]
  },
  {
   "cell_type": "code",
   "execution_count": 16,
   "id": "c7c1dd3f",
   "metadata": {},
   "outputs": [
    {
     "name": "stdout",
     "output_type": "stream",
     "text": [
      "Number of chunks for level NATIVE: 324.\n",
      "Number of chunks for level HIGH: 1523.\n",
      "Number of chunks for level MEDIUM: 2005.\n",
      "Number of chunks for level LOW: 272.\n"
     ]
    }
   ],
   "source": [
    "print(f\"Number of chunks for level NATIVE: {len(chunks_native)}.\")\n",
    "print(f\"Number of chunks for level HIGH: {len(chunks_high)}.\")\n",
    "print(f\"Number of chunks for level MEDIUM: {len(chunks_medium)}.\")\n",
    "print(f\"Number of chunks for level LOW: {len(chunks_low)}.\")"
   ]
  },
  {
   "cell_type": "markdown",
   "id": "92d28f81",
   "metadata": {},
   "source": [
    "## Extract features"
   ]
  },
  {
   "cell_type": "code",
   "execution_count": 17,
   "id": "87617528",
   "metadata": {},
   "outputs": [],
   "source": [
    "import scipy\n",
    "from sklearn.feature_extraction.text import TfidfVectorizer"
   ]
  },
  {
   "cell_type": "code",
   "execution_count": 18,
   "id": "af67eba4",
   "metadata": {},
   "outputs": [],
   "source": [
    "def get_function_words(chunk):\n",
    "    words = [word.split(\"_\")[0] for word in chunk]\n",
    "    words = [word for word in words if word in FUNCTION_WORDS]\n",
    "    return \" \".join(words)\n",
    "\n",
    "def get_pos(chunk):\n",
    "    words = [word.split(\"_\")[1] for word in chunk]\n",
    "    return \" \".join(words)\n",
    "\n",
    "def get_labels(label, chunks):\n",
    "    return [label for i in range(len(chunks))]"
   ]
  },
  {
   "cell_type": "code",
   "execution_count": 19,
   "id": "b75c61a3",
   "metadata": {},
   "outputs": [],
   "source": [
    "# create a vector of labels for each class\n",
    "labels = ([\"low\"] * len(chunks_low) +\n",
    "          [\"med\"] * len(chunks_medium) +\n",
    "          [\"high\"] *len(chunks_high) +\n",
    "          [\"nat\"] * len(chunks_native))"
   ]
  },
  {
   "cell_type": "code",
   "execution_count": 20,
   "id": "09de7f24",
   "metadata": {},
   "outputs": [],
   "source": [
    "# for each chunk, create feature vectors where dimensions\n",
    "# correspond to function words and PoS trigrams\n",
    "fw_vectors = []\n",
    "pos_vectors = []\n",
    "\n",
    "for chunk in chunks_low + chunks_medium + chunks_high + chunks_native:\n",
    "    fw = get_function_words(chunk)\n",
    "    fw_vectors.append(fw)\n",
    "    \n",
    "    pos = get_pos(chunk)\n",
    "    pos_vectors.append(pos)"
   ]
  },
  {
   "cell_type": "code",
   "execution_count": 21,
   "id": "af11797a",
   "metadata": {},
   "outputs": [
    {
     "data": {
      "text/plain": [
       "<4124x375 sparse matrix of type '<class 'numpy.float64'>'\n",
       "\twith 469364 stored elements in Compressed Sparse Row format>"
      ]
     },
     "execution_count": 21,
     "metadata": {},
     "output_type": "execute_result"
    }
   ],
   "source": [
    "# perform TF-IDF transformation on function words vectors\n",
    "fw_vectorizer = TfidfVectorizer()\n",
    "fw_vectorizer.fit(fw_vectors)\n",
    "fw_corpus = fw_vectorizer.transform(fw_vectors)\n",
    "fw_corpus"
   ]
  },
  {
   "cell_type": "code",
   "execution_count": 22,
   "id": "8bd7d892",
   "metadata": {},
   "outputs": [
    {
     "data": {
      "text/plain": [
       "array(['about', 'above', 'accordingly', 'actual', 'actually', 'after',\n",
       "       'afterward', 'afterwards', 'again', 'against', 'ago', 'all',\n",
       "       'almost', 'along', 'already', 'also', 'although', 'always', 'am',\n",
       "       'among'], dtype=object)"
      ]
     },
     "execution_count": 22,
     "metadata": {},
     "output_type": "execute_result"
    }
   ],
   "source": [
    "fw_vectorizer.get_feature_names_out()[:20]"
   ]
  },
  {
   "cell_type": "code",
   "execution_count": 23,
   "id": "f7839040",
   "metadata": {},
   "outputs": [
    {
     "data": {
      "text/plain": [
       "<4124x2840 sparse matrix of type '<class 'numpy.float64'>'\n",
       "\twith 1576115 stored elements in Compressed Sparse Row format>"
      ]
     },
     "execution_count": 23,
     "metadata": {},
     "output_type": "execute_result"
    }
   ],
   "source": [
    "# perform TF-IDF transformation on PoS vectors\n",
    "\n",
    "pos_vectorizer = TfidfVectorizer(ngram_range=(3,3))\n",
    "pos_vectorizer.fit(pos_vectors)\n",
    "pos_corpus = pos_vectorizer.transform(pos_vectors)\n",
    "pos_corpus"
   ]
  },
  {
   "cell_type": "code",
   "execution_count": 24,
   "id": "e1704e86",
   "metadata": {},
   "outputs": [
    {
     "name": "stdout",
     "output_type": "stream",
     "text": [
      "['adj adj adj' 'adj adj adp' 'adj adj adv' ... 'verb verb propn'\n",
      " 'verb verb sconj' 'verb verb verb']\n"
     ]
    }
   ],
   "source": [
    "print(pos_vectorizer.get_feature_names_out())"
   ]
  },
  {
   "cell_type": "code",
   "execution_count": 25,
   "id": "230987a4",
   "metadata": {},
   "outputs": [
    {
     "data": {
      "text/plain": [
       "<4124x3215 sparse matrix of type '<class 'numpy.float64'>'\n",
       "\twith 2045479 stored elements in Compressed Sparse Row format>"
      ]
     },
     "execution_count": 25,
     "metadata": {},
     "output_type": "execute_result"
    }
   ],
   "source": [
    "# for each chunk, combine two vectors into one\n",
    "corpus = scipy.sparse.hstack([fw_corpus, pos_corpus], format='csr')\n",
    "corpus"
   ]
  },
  {
   "cell_type": "code",
   "execution_count": 26,
   "id": "db59f3f2",
   "metadata": {},
   "outputs": [
    {
     "name": "stdout",
     "output_type": "stream",
     "text": [
      "Total number of chunks: 4124.\n",
      "Total number of features: 3215.\n"
     ]
    }
   ],
   "source": [
    "print(f\"Total number of chunks: {corpus.shape[0]}.\")\n",
    "print(f\"Total number of features: {corpus.shape[1]}.\")"
   ]
  },
  {
   "cell_type": "markdown",
   "id": "3a14a6e0",
   "metadata": {},
   "source": [
    "### Applying different strategies for imbalanced data"
   ]
  },
  {
   "cell_type": "markdown",
   "id": "0b399aef",
   "metadata": {},
   "source": [
    "#### Prepare labels"
   ]
  },
  {
   "cell_type": "code",
   "execution_count": 27,
   "id": "e87e5e80",
   "metadata": {},
   "outputs": [],
   "source": [
    "from collections import Counter\n",
    "from imblearn.over_sampling import SMOTE\n",
    "from imblearn.under_sampling import RandomUnderSampler, ClusterCentroids"
   ]
  },
  {
   "cell_type": "code",
   "execution_count": 28,
   "id": "bd66ce24",
   "metadata": {},
   "outputs": [
    {
     "name": "stdout",
     "output_type": "stream",
     "text": [
      "Number of observations per class:\n",
      "\tlow\t272\n",
      "\tmed\t2005\n",
      "\thigh\t1523\n",
      "\tnat\t324\n"
     ]
    }
   ],
   "source": [
    "labels_counter = Counter(labels)\n",
    "\n",
    "print(\"Number of observations per class:\")\n",
    "for key in labels_counter:\n",
    "    print(f\"\\t{key}\\t{labels_counter[key]}\")"
   ]
  },
  {
   "cell_type": "markdown",
   "id": "ab1eafc3",
   "metadata": {},
   "source": [
    "#### Create one class for non-native essays"
   ]
  },
  {
   "cell_type": "code",
   "execution_count": 29,
   "id": "a4afb30c",
   "metadata": {},
   "outputs": [
    {
     "name": "stdout",
     "output_type": "stream",
     "text": [
      "Number of observations per class:\n",
      "\tnnat\t3800\n",
      "\tnat\t324\n"
     ]
    }
   ],
   "source": [
    "y = np.array(labels)\n",
    "y[np.where(y != \"nat\")] = \"nnat\"\n",
    "\n",
    "labels_counter = Counter(y)\n",
    "print(\"Number of observations per class:\")\n",
    "for key in labels_counter:\n",
    "    print(f\"\\t{key}\\t{labels_counter[key]}\")"
   ]
  },
  {
   "cell_type": "markdown",
   "id": "be5bcd13",
   "metadata": {},
   "source": [
    "#### Oversampling"
   ]
  },
  {
   "cell_type": "code",
   "execution_count": 30,
   "id": "1ba5d5a1",
   "metadata": {},
   "outputs": [],
   "source": [
    "oversample = SMOTE()\n",
    "X_resampled, y_resampled = oversample.fit_resample(corpus, y)"
   ]
  },
  {
   "cell_type": "code",
   "execution_count": 31,
   "id": "8bc620d1",
   "metadata": {},
   "outputs": [
    {
     "name": "stdout",
     "output_type": "stream",
     "text": [
      "Number of observations per class after oversampling:\n",
      "\tnnat\t3800\n",
      "\tnat\t3800\n"
     ]
    }
   ],
   "source": [
    "labels_counter = Counter(y_resampled)\n",
    "print(\"Number of observations per class after oversampling:\")\n",
    "for key in labels_counter:\n",
    "    print(f\"\\t{key}\\t{labels_counter[key]}\")"
   ]
  },
  {
   "cell_type": "markdown",
   "id": "3c615a7a",
   "metadata": {},
   "source": [
    "#### Undersampling"
   ]
  },
  {
   "cell_type": "code",
   "execution_count": null,
   "id": "66813e65",
   "metadata": {},
   "outputs": [],
   "source": [
    "undersample = ClusterCentroids(random_state=2022)\n",
    "X_resampled, y_resampled = undersample.fit_resample(corpus, y)\n",
    "\n",
    "labels_counter = Counter(y_resampled)\n",
    "print(\"Number of observations per class after undersampling:\")\n",
    "for key in labels_counter:\n",
    "    print(f\"\\t{key}\\t{labels_counter[key]}\")"
   ]
  },
  {
   "cell_type": "markdown",
   "id": "17331a5f",
   "metadata": {},
   "source": [
    "#### Undersampling + oversampling\n",
    "\n",
    "First, reduce the number of non-native essays by downsampling them to the smallest class (class `low`).\n",
    "\n",
    "Then, oversample native essays to the number of non-native essays."
   ]
  },
  {
   "cell_type": "code",
   "execution_count": null,
   "id": "a236eb04",
   "metadata": {},
   "outputs": [],
   "source": [
    "undersample = RandomUnderSampler(random_state=2022)\n",
    "# undersample = ClusterCentroids(random_state=2022)\n",
    "\n",
    "X_resampled, y_resampled = undersample.fit_resample(corpus, labels)"
   ]
  },
  {
   "cell_type": "code",
   "execution_count": null,
   "id": "d7634cfd",
   "metadata": {},
   "outputs": [],
   "source": [
    "labels_counter = Counter(y_resampled)\n",
    "\n",
    "print(\"Number of observations per class after undersampling:\")\n",
    "for key in labels_counter:\n",
    "    print(f\"\\t{key}\\t{labels_counter[key]}\")"
   ]
  },
  {
   "cell_type": "code",
   "execution_count": null,
   "id": "75b4aad0",
   "metadata": {},
   "outputs": [],
   "source": [
    "y_resampled = np.array(y_resampled)\n",
    "y_resampled[np.where(y_resampled != 'nat')] = 'nnat'\n",
    "\n",
    "labels_counter = Counter(y_resampled)\n",
    "print(\"Number of observations per class after undersampling non-native essays:\")\n",
    "for key in labels_counter:\n",
    "    print(f\"\\t{key}\\t{labels_counter[key]}\")"
   ]
  },
  {
   "cell_type": "code",
   "execution_count": null,
   "id": "4723fcfc",
   "metadata": {},
   "outputs": [],
   "source": [
    "oversample = SMOTE()\n",
    "X_resampled, y_resampled = oversample.fit_resample(X_resampled, y_resampled)\n",
    "\n",
    "labels_counter = Counter(y_resampled)\n",
    "print(\"Number of observations per class after oversampling native essays:\")\n",
    "for key in labels_counter:\n",
    "    print(f\"\\t{key}\\t{labels_counter[key]}\")"
   ]
  },
  {
   "cell_type": "markdown",
   "id": "2e6f440d",
   "metadata": {},
   "source": [
    "## Classification"
   ]
  },
  {
   "cell_type": "code",
   "execution_count": 32,
   "id": "dc477d26",
   "metadata": {},
   "outputs": [],
   "source": [
    "from sklearn.model_selection import StratifiedShuffleSplit\n",
    "from sklearn.svm import LinearSVC\n",
    "from sklearn.linear_model import LogisticRegression\n",
    "from sklearn.metrics import accuracy_score, precision_score, recall_score, f1_score"
   ]
  },
  {
   "cell_type": "code",
   "execution_count": 33,
   "id": "8896e251",
   "metadata": {},
   "outputs": [
    {
     "name": "stdout",
     "output_type": "stream",
     "text": [
      "Accuracy: = 1.000 \tF-score = 1.000\n",
      "Accuracy: = 1.000 \tF-score = 1.000\n",
      "Accuracy: = 1.000 \tF-score = 1.000\n",
      "Accuracy: = 0.999 \tF-score = 0.999\n",
      "Accuracy: = 0.999 \tF-score = 0.999\n",
      "Accuracy: = 0.999 \tF-score = 0.999\n",
      "Accuracy: = 1.000 \tF-score = 1.000\n",
      "Accuracy: = 1.000 \tF-score = 1.000\n",
      "Accuracy: = 1.000 \tF-score = 1.000\n",
      "Accuracy: = 1.000 \tF-score = 1.000\n"
     ]
    }
   ],
   "source": [
    "fold = StratifiedShuffleSplit(n_splits=10, test_size=0.4, random_state=0)\n",
    "clf = LogisticRegression()\n",
    "\n",
    "for train_idx, test_idx in fold.split(X_resampled, y_resampled):\n",
    "    X_train, X_test = X_resampled[train_idx], X_resampled[test_idx]\n",
    "    y_train, y_test = y_resampled[train_idx], y_resampled[test_idx]\n",
    "    clf.fit(X_train, y_train)\n",
    "    y_pred = clf.predict(X_test)\n",
    "    print(\"Accuracy: = {:.3f}\".format(clf.score(X_test, y_test)), end=' \\t')\n",
    "    print(\"F-score = {:.3f}\".format(f1_score(y_test, y_pred, average='micro')))"
   ]
  },
  {
   "cell_type": "code",
   "execution_count": 34,
   "id": "ea82d0b2",
   "metadata": {},
   "outputs": [
    {
     "name": "stdout",
     "output_type": "stream",
     "text": [
      "Accuracy: = 1.000 \tF-score = 1.000\n",
      "Accuracy: = 1.000 \tF-score = 1.000\n",
      "Accuracy: = 1.000 \tF-score = 1.000\n",
      "Accuracy: = 1.000 \tF-score = 1.000\n",
      "Accuracy: = 1.000 \tF-score = 1.000\n",
      "Accuracy: = 1.000 \tF-score = 1.000\n",
      "Accuracy: = 1.000 \tF-score = 1.000\n",
      "Accuracy: = 1.000 \tF-score = 1.000\n",
      "Accuracy: = 1.000 \tF-score = 1.000\n",
      "Accuracy: = 1.000 \tF-score = 1.000\n"
     ]
    }
   ],
   "source": [
    "fold = StratifiedShuffleSplit(n_splits=10, test_size=0.3, random_state=0)\n",
    "clf = LinearSVC()\n",
    "\n",
    "for train_idx, test_idx in fold.split(X_resampled, y_resampled):\n",
    "    X_train, X_test = X_resampled[train_idx], X_resampled[test_idx]\n",
    "    y_train, y_test = y_resampled[train_idx], y_resampled[test_idx]\n",
    "    clf.fit(X_train, y_train)\n",
    "    y_pred = clf.predict(X_test)\n",
    "    print(\"Accuracy: = {:.3f}\".format(clf.score(X_test, y_test)), end=' \\t')\n",
    "    print(\"F-score = {:.3f}\".format(f1_score(y_test, y_pred, average='micro')))"
   ]
  },
  {
   "cell_type": "code",
   "execution_count": 35,
   "id": "4393cb48",
   "metadata": {},
   "outputs": [],
   "source": [
    "def get_distance(clf, point):\n",
    "    dfunc = clf.decision_function(point)\n",
    "    w_norm = np.linalg.norm(clf.coef_)\n",
    "    dist = dfunc / w_norm\n",
    "    return dist"
   ]
  },
  {
   "cell_type": "code",
   "execution_count": 36,
   "id": "e8a799bf",
   "metadata": {},
   "outputs": [],
   "source": [
    "orig_y = np.array(labels)"
   ]
  },
  {
   "cell_type": "code",
   "execution_count": 37,
   "id": "75a1c1e6",
   "metadata": {},
   "outputs": [
    {
     "name": "stdout",
     "output_type": "stream",
     "text": [
      "Proficiency level: low\n",
      "----------------------\n",
      "Median distance from hyperplane: 0.2013\n",
      "Mean distance from hyperplane: 0.2012\n",
      "MAD: 0.0247\n"
     ]
    }
   ],
   "source": [
    "points_low = corpus[np.where(orig_y == \"low\")]\n",
    "dist = get_distance(clf, points_low)\n",
    "print(\"Proficiency level: low\\n----------------------\")\n",
    "print(f\"Median distance from hyperplane: {np.median(dist).round(4)}\")\n",
    "print(f\"Mean distance from hyperplane: {np.mean(dist).round(4)}\")\n",
    "print(\"MAD:\", scipy.stats.median_abs_deviation(dist).round(4))"
   ]
  },
  {
   "cell_type": "code",
   "execution_count": 38,
   "id": "887df85a",
   "metadata": {},
   "outputs": [
    {
     "name": "stdout",
     "output_type": "stream",
     "text": [
      "Proficiency level: medium\n",
      "-------------------------\n",
      "Median distance from hyperplane: 0.1875\n",
      "Mean distance from hyperplane: 0.1875\n",
      "MAD: 0.0227\n"
     ]
    }
   ],
   "source": [
    "points_med = corpus[np.where(orig_y == \"med\")]\n",
    "dist = get_distance(clf, points_med)\n",
    "print(\"Proficiency level: medium\\n-------------------------\")\n",
    "print(f\"Median distance from hyperplane: {np.median(dist).round(4)}\")\n",
    "print(f\"Mean distance from hyperplane: {np.mean(dist).round(4)}\")\n",
    "print(\"MAD:\", scipy.stats.median_abs_deviation(dist).round(4))"
   ]
  },
  {
   "cell_type": "code",
   "execution_count": 39,
   "id": "f8666585",
   "metadata": {},
   "outputs": [
    {
     "name": "stdout",
     "output_type": "stream",
     "text": [
      "Proficiency level: high\n",
      "-----------------------\n",
      "Median distance from hyperplane: 0.1481\n",
      "Mean distance from hyperplane: 0.1486\n",
      "MAD: 0.0229\n"
     ]
    }
   ],
   "source": [
    "points_high = corpus[np.where(orig_y == \"high\")]\n",
    "dist = get_distance(clf, points_high)\n",
    "print(\"Proficiency level: high\\n-----------------------\")\n",
    "print(f\"Median distance from hyperplane: {np.median(dist).round(4)}\")\n",
    "print(f\"Mean distance from hyperplane: {np.mean(dist).round(4)}\")\n",
    "print(\"MAD:\", scipy.stats.median_abs_deviation(dist).round(4))"
   ]
  },
  {
   "cell_type": "code",
   "execution_count": 40,
   "id": "3a06bad3",
   "metadata": {},
   "outputs": [
    {
     "name": "stdout",
     "output_type": "stream",
     "text": [
      "Proficiency level: native\n",
      "-------------------------\n",
      "Median distance from hyperplane: -0.1395\n",
      "Mean distance from hyperplane: -0.1444\n",
      "MAD: 0.0255\n"
     ]
    }
   ],
   "source": [
    "points_nat = corpus[np.where(orig_y == \"nat\")]\n",
    "dist = get_distance(clf, points_nat)\n",
    "print(\"Proficiency level: native\\n-------------------------\")\n",
    "print(f\"Median distance from hyperplane: {np.median(dist).round(4)}\")\n",
    "print(f\"Mean distance from hyperplane: {np.mean(dist).round(4)}\")\n",
    "print(\"MAD:\", scipy.stats.median_abs_deviation(dist).round(4))"
   ]
  },
  {
   "cell_type": "markdown",
   "id": "db7a5c68",
   "metadata": {},
   "source": [
    "## Distribution of distances"
   ]
  },
  {
   "cell_type": "code",
   "execution_count": 41,
   "id": "c57e6aec",
   "metadata": {},
   "outputs": [
    {
     "data": {
      "text/html": [
       "<div>\n",
       "<style scoped>\n",
       "    .dataframe tbody tr th:only-of-type {\n",
       "        vertical-align: middle;\n",
       "    }\n",
       "\n",
       "    .dataframe tbody tr th {\n",
       "        vertical-align: top;\n",
       "    }\n",
       "\n",
       "    .dataframe thead th {\n",
       "        text-align: right;\n",
       "    }\n",
       "</style>\n",
       "<table border=\"1\" class=\"dataframe\">\n",
       "  <thead>\n",
       "    <tr style=\"text-align: right;\">\n",
       "      <th></th>\n",
       "      <th>distance</th>\n",
       "      <th>level</th>\n",
       "    </tr>\n",
       "  </thead>\n",
       "  <tbody>\n",
       "    <tr>\n",
       "      <th>0</th>\n",
       "      <td>0.240546</td>\n",
       "      <td>low</td>\n",
       "    </tr>\n",
       "    <tr>\n",
       "      <th>1</th>\n",
       "      <td>0.183087</td>\n",
       "      <td>low</td>\n",
       "    </tr>\n",
       "    <tr>\n",
       "      <th>2</th>\n",
       "      <td>0.239364</td>\n",
       "      <td>low</td>\n",
       "    </tr>\n",
       "    <tr>\n",
       "      <th>3</th>\n",
       "      <td>0.172792</td>\n",
       "      <td>low</td>\n",
       "    </tr>\n",
       "    <tr>\n",
       "      <th>4</th>\n",
       "      <td>0.161318</td>\n",
       "      <td>low</td>\n",
       "    </tr>\n",
       "  </tbody>\n",
       "</table>\n",
       "</div>"
      ],
      "text/plain": [
       "   distance level\n",
       "0  0.240546   low\n",
       "1  0.183087   low\n",
       "2  0.239364   low\n",
       "3  0.172792   low\n",
       "4  0.161318   low"
      ]
     },
     "execution_count": 41,
     "metadata": {},
     "output_type": "execute_result"
    }
   ],
   "source": [
    "distances = get_distance(clf, corpus)\n",
    "distances_df = pd.DataFrame(data=zip(distances, labels), columns=['distance', 'level'])\n",
    "distances_df.head()"
   ]
  },
  {
   "cell_type": "code",
   "execution_count": 42,
   "id": "15847b7c",
   "metadata": {},
   "outputs": [],
   "source": [
    "# apply colors for each level\n",
    "COLORS = {\n",
    "    \"low\": 'red',\n",
    "    'med': 'yellow',\n",
    "    'high': 'green',\n",
    "    'nat': 'blue'\n",
    "}\n",
    "distances_df['color'] = distances_df['level'].map(COLORS)"
   ]
  },
  {
   "cell_type": "code",
   "execution_count": 43,
   "id": "7b104658",
   "metadata": {},
   "outputs": [],
   "source": [
    "# creating a subset of non-native speakers\n",
    "nonnatives = distances_df[distances_df['level'] != 'nat']"
   ]
  },
  {
   "cell_type": "code",
   "execution_count": 46,
   "id": "6ee576a6",
   "metadata": {},
   "outputs": [
    {
     "data": {
      "text/plain": [
       "<matplotlib.collections.PathCollection at 0x7f69b7f92400>"
      ]
     },
     "execution_count": 46,
     "metadata": {},
     "output_type": "execute_result"
    },
    {
     "data": {
      "image/png": "[encoded data removed]",
      "text/plain": [
       "<Figure size 432x288 with 1 Axes>"
      ]
     },
     "metadata": {
      "needs_background": "light"
     },
     "output_type": "display_data"
    }
   ],
   "source": [
    "# sns.scatterplot(x=range(len(nonnatives)),\n",
    "#                 y=nonnatives[\"distance\"],\n",
    "#                 c=nonnatives[\"color\"], marker='o')\n",
    "fig, ax = plt.subplots()\n",
    "ax.scatter(x=range(len(nonnatives)), y=nonnatives[\"distance\"], c=nonnatives[\"color\"])"
   ]
  },
  {
   "cell_type": "code",
   "execution_count": 47,
   "id": "fde02cb0",
   "metadata": {
    "scrolled": true
   },
   "outputs": [
    {
     "data": {
      "text/plain": [
       "<AxesSubplot:xlabel='level', ylabel='distance'>"
      ]
     },
     "execution_count": 47,
     "metadata": {},
     "output_type": "execute_result"
    },
    {
     "data": {
      "image/png": "[encoded data removed]",
      "text/plain": [
       "<Figure size 432x288 with 1 Axes>"
      ]
     },
     "metadata": {
      "needs_background": "light"
     },
     "output_type": "display_data"
    }
   ],
   "source": [
    "sns.boxplot(x='level', y='distance', data=nonnatives)"
   ]
  },
  {
   "cell_type": "markdown",
   "id": "e7c34b60",
   "metadata": {},
   "source": [
    "## Distribution of `distance`"
   ]
  },
  {
   "cell_type": "code",
   "execution_count": 62,
   "id": "8ce3f95a",
   "metadata": {},
   "outputs": [
    {
     "data": {
      "text/plain": [
       "<AxesSubplot:xlabel='distance', ylabel='Count'>"
      ]
     },
     "execution_count": 62,
     "metadata": {},
     "output_type": "execute_result"
    },
    {
     "data": {
      "image/png": "[encoded data removed]",
      "text/plain": [
       "<Figure size 432x288 with 1 Axes>"
      ]
     },
     "metadata": {
      "needs_background": "light"
     },
     "output_type": "display_data"
    }
   ],
   "source": [
    "sns.histplot(x='distance', data=distances_df, hue='level', kde=True, element='step')"
   ]
  },
  {
   "cell_type": "code",
   "execution_count": 63,
   "id": "e508d738",
   "metadata": {},
   "outputs": [],
   "source": [
    "nonatives = distances_df[distances_df['level'].isin(['low', 'med', 'high'])]"
   ]
  },
  {
   "cell_type": "code",
   "execution_count": 64,
   "id": "8ff957ba",
   "metadata": {},
   "outputs": [
    {
     "data": {
      "text/plain": [
       "<AxesSubplot:xlabel='distance', ylabel='Count'>"
      ]
     },
     "execution_count": 64,
     "metadata": {},
     "output_type": "execute_result"
    },
    {
     "data": {
      "image/png": "[encoded data removed]",
      "text/plain": [
       "<Figure size 432x288 with 1 Axes>"
      ]
     },
     "metadata": {
      "needs_background": "light"
     },
     "output_type": "display_data"
    }
   ],
   "source": [
    "sns.histplot(x='distance', data=nonnatives, hue='level', kde=True,\n",
    "             element='step', bins=100)"
   ]
  },
  {
   "cell_type": "code",
   "execution_count": 65,
   "id": "b8ba9def",
   "metadata": {},
   "outputs": [
    {
     "data": {
      "text/plain": [
       "<AxesSubplot:xlabel='distance', ylabel='Count'>"
      ]
     },
     "execution_count": 65,
     "metadata": {},
     "output_type": "execute_result"
    },
    {
     "data": {
      "image/png": "[encoded data removed]",
      "text/plain": [
       "<Figure size 432x288 with 1 Axes>"
      ]
     },
     "metadata": {
      "needs_background": "light"
     },
     "output_type": "display_data"
    }
   ],
   "source": [
    "sns.histplot(x='distance', data=nonnatives, kde=True, element='step', bins=100, color='tomato')"
   ]
  },
  {
   "cell_type": "markdown",
   "id": "32d28fca",
   "metadata": {},
   "source": [
    "## Clustering"
   ]
  },
  {
   "cell_type": "code",
   "execution_count": 66,
   "id": "e5f2e965",
   "metadata": {},
   "outputs": [],
   "source": [
    "# for each chunk, get distances from the hyperplane \n",
    "low_dist = get_distance(clf, points_low)\n",
    "med_dist = get_distance(clf, points_med)\n",
    "high_dist = get_distance(clf, points_high)\n",
    "nat_dist = get_distance(clf, points_nat)"
   ]
  },
  {
   "cell_type": "code",
   "execution_count": 67,
   "id": "bd5d115d",
   "metadata": {},
   "outputs": [],
   "source": [
    "# calculate mean distance for each level\n",
    "low_centroid = np.mean(low_dist)\n",
    "high_centroid = np.mean(high_dist)\n",
    "med_centroid = np.mean(med_dist)"
   ]
  },
  {
   "cell_type": "code",
   "execution_count": 68,
   "id": "0e6733ad",
   "metadata": {},
   "outputs": [],
   "source": [
    "pred_centroid = []\n",
    "\n",
    "for i, row in distances_df.iterrows():\n",
    "    dist = row['distance']\n",
    "    \n",
    "    dist_dict = {\n",
    "        'high': abs(high_centroid - dist),\n",
    "        'med': abs(med_centroid - dist),\n",
    "        'low': abs(low_centroid - dist)\n",
    "    }\n",
    "    max_centroid = sorted(dist_dict, key=lambda x: dist_dict[x])[0]\n",
    "    pred_centroid.append(max_centroid)"
   ]
  },
  {
   "cell_type": "code",
   "execution_count": 69,
   "id": "6af06594",
   "metadata": {},
   "outputs": [],
   "source": [
    "distances_df['pred centroid'] = pred_centroid"
   ]
  },
  {
   "cell_type": "code",
   "execution_count": 70,
   "id": "e51d7110",
   "metadata": {},
   "outputs": [
    {
     "name": "stdout",
     "output_type": "stream",
     "text": [
      "Overall accuracy of the approach: 45.34%\n"
     ]
    }
   ],
   "source": [
    "print(\"Overall accuracy of the approach: {:.2%}\".format(\n",
    "    accuracy_score(distances_df['level'], distances_df['pred centroid'])))"
   ]
  },
  {
   "cell_type": "code",
   "execution_count": 71,
   "id": "aa3e33d4",
   "metadata": {},
   "outputs": [
    {
     "name": "stdout",
     "output_type": "stream",
     "text": [
      "Accuracy for level HIGH: 72.29%\n"
     ]
    }
   ],
   "source": [
    "high_df = distances_df[distances_df['level'] == 'high']\n",
    "print(\"Accuracy for level HIGH: {:.2%}\".format(\n",
    "    accuracy_score(high_df['level'], high_df['pred centroid'])))"
   ]
  },
  {
   "cell_type": "code",
   "execution_count": 72,
   "id": "9bd01c24",
   "metadata": {},
   "outputs": [
    {
     "name": "stdout",
     "output_type": "stream",
     "text": [
      "Accuracy for level MEDIUM: 30.42%\n"
     ]
    }
   ],
   "source": [
    "med_df = distances_df[distances_df['level'] == 'med']\n",
    "print(\"Accuracy for level MEDIUM: {:.2%}\".format(\n",
    "    accuracy_score(med_df['level'], med_df['pred centroid'])))"
   ]
  },
  {
   "cell_type": "code",
   "execution_count": 73,
   "id": "3db2fb50",
   "metadata": {},
   "outputs": [
    {
     "name": "stdout",
     "output_type": "stream",
     "text": [
      "Accuracy for level LOW: 58.46%\n"
     ]
    }
   ],
   "source": [
    "low_df = distances_df[distances_df['level'] == 'low']\n",
    "print(\"Accuracy for level LOW: {:.2%}\".format(\n",
    "    accuracy_score(low_df['level'], low_df['pred centroid'])))"
   ]
  },
  {
   "cell_type": "code",
   "execution_count": null,
   "id": "57395926",
   "metadata": {},
   "outputs": [],
   "source": [
    "from sklearn.metrics import classification_report"
   ]
  },
  {
   "cell_type": "code",
   "execution_count": null,
   "id": "9907b348",
   "metadata": {},
   "outputs": [],
   "source": [
    "print(classification_report(edges['level'], edges['pred centroid']))"
   ]
  },
  {
   "cell_type": "markdown",
   "id": "fb89c721",
   "metadata": {},
   "source": [
    "- use the same classifier on individual essays; -> different results clustering them\n",
    "- train the classifier on individual essays; -> predict on individual essays (native language control)\n",
    "- repeat the same experiment on the German-speakers corpus\n",
    "- repeat the same experiment on hebrew speakers"
   ]
  },
  {
   "cell_type": "markdown",
   "id": "2d2085c0",
   "metadata": {},
   "source": [
    "## Testing classifier on individual essays"
   ]
  },
  {
   "cell_type": "code",
   "execution_count": null,
   "id": "1e3ff0b1",
   "metadata": {},
   "outputs": [],
   "source": [
    "essays_high = []\n",
    "for file in files_high:\n",
    "    with open(toefl_dir + file, 'r') as f:\n",
    "        essays_high.append(f.read().strip().replace(\"\\n\", \" \"))\n",
    "print(f\"Number of essays on high level: {len(essays_high)}\")"
   ]
  },
  {
   "cell_type": "code",
   "execution_count": null,
   "id": "3d11a7dd",
   "metadata": {},
   "outputs": [],
   "source": [
    "essays_medium = []\n",
    "for file in files_medium:\n",
    "    with open(toefl_dir + file, 'r') as f:\n",
    "        essays_medium.append(f.read().strip().replace(\"\\n\", \" \"))\n",
    "print(f\"Number of essays on medium level: {len(essays_medium)}\")"
   ]
  },
  {
   "cell_type": "code",
   "execution_count": null,
   "id": "f359bb2b",
   "metadata": {},
   "outputs": [],
   "source": [
    "essays_low = []\n",
    "for file in files_low:\n",
    "    with open(toefl_dir + file, 'r') as f:\n",
    "        essays_low.append(f.read().strip().replace(\"\\n\", \" \"))\n",
    "print(f\"Number of essays on low level: {len(essays_low)}\")"
   ]
  },
  {
   "cell_type": "code",
   "execution_count": null,
   "id": "19ec0223",
   "metadata": {},
   "outputs": [],
   "source": [
    "essays_nat = []\n",
    "for file in files_native:\n",
    "    with open(locness_dir + file, 'r') as f:\n",
    "        essays_nat.append(f.read().strip().replace(\"\\n\", \" \"))\n",
    "print(f\"Number of essays on native level: {len(essays_nat)}\")"
   ]
  },
  {
   "cell_type": "code",
   "execution_count": null,
   "id": "ddd2775c",
   "metadata": {},
   "outputs": [],
   "source": [
    "labels = ([\"low\"] * len(essays_low) +\n",
    "          [\"med\"] * len(essays_medium) +\n",
    "          [\"high\"] * len(essays_high))\n",
    "print(len(labels))"
   ]
  },
  {
   "cell_type": "code",
   "execution_count": null,
   "id": "a351d5c0",
   "metadata": {},
   "outputs": [],
   "source": [
    "fw_vectors = []\n",
    "pos_vectors = []\n",
    "\n",
    "for essay in essays_low + essays_medium + essays_high:\n",
    "    fw = get_function_words(essay.split())\n",
    "    fw_vectors.append(fw)\n",
    "    \n",
    "    pos = get_pos(essay.split())\n",
    "    pos_vectors.append(pos)"
   ]
  },
  {
   "cell_type": "code",
   "execution_count": null,
   "id": "cf5c1dea",
   "metadata": {},
   "outputs": [],
   "source": [
    "len(fw_vectors), len(pos_vectors)"
   ]
  },
  {
   "cell_type": "markdown",
   "id": "5452648c",
   "metadata": {},
   "source": [
    "#### Transform with the same vectorizer"
   ]
  },
  {
   "cell_type": "code",
   "execution_count": null,
   "id": "ef3d7900",
   "metadata": {},
   "outputs": [],
   "source": [
    "print(len(fw_vectorizer.get_feature_names_out()))\n",
    "print(len(pos_vectorizer.get_feature_names_out()))"
   ]
  },
  {
   "cell_type": "code",
   "execution_count": null,
   "id": "5d666993",
   "metadata": {},
   "outputs": [],
   "source": [
    "fw_corpus_essays = fw_vectorizer.transform(fw_vectors)"
   ]
  },
  {
   "cell_type": "code",
   "execution_count": null,
   "id": "0233e5a1",
   "metadata": {},
   "outputs": [],
   "source": [
    "pos_corpus_essays = pos_vectorizer.transform(pos_vectors)"
   ]
  },
  {
   "cell_type": "code",
   "execution_count": null,
   "id": "6d5bc048",
   "metadata": {},
   "outputs": [],
   "source": [
    "new_corpus = scipy.sparse.hstack([fw_corpus_essays, pos_corpus_essays], format='csr')\n",
    "new_corpus"
   ]
  },
  {
   "cell_type": "markdown",
   "id": "6ecd90d1",
   "metadata": {},
   "source": [
    "### Make predictions: native vs nonnative"
   ]
  },
  {
   "cell_type": "code",
   "execution_count": null,
   "id": "74beded2",
   "metadata": {},
   "outputs": [],
   "source": [
    "y_pred = clf.predict(new_corpus)\n",
    "y_true = ['nnat'] * len(labels)"
   ]
  },
  {
   "cell_type": "code",
   "execution_count": null,
   "id": "e4d4ac45",
   "metadata": {},
   "outputs": [],
   "source": [
    "print(f\"accuracy on individual essays: {accuracy_score(y_true, y_pred):.2%}\")"
   ]
  },
  {
   "cell_type": "markdown",
   "id": "c162d2a8",
   "metadata": {},
   "source": [
    "### Clustering"
   ]
  },
  {
   "cell_type": "code",
   "execution_count": null,
   "id": "41bbd3ad",
   "metadata": {},
   "outputs": [],
   "source": [
    "distances = get_distance(clf, new_corpus)\n",
    "distances_df = pd.DataFrame(data=zip(distances, labels), columns=['distance', 'level'])\n",
    "distances_df.head()"
   ]
  },
  {
   "cell_type": "code",
   "execution_count": null,
   "id": "492c06ca",
   "metadata": {},
   "outputs": [],
   "source": [
    "# apply colors for each level\n",
    "COLORS = {\n",
    "    \"low\": 'red',\n",
    "    'med': 'yellow',\n",
    "    'high': 'green',\n",
    "    'nat': 'blue'\n",
    "}\n",
    "distances_df['color'] = distances_df['level'].map(COLORS)"
   ]
  },
  {
   "cell_type": "code",
   "execution_count": null,
   "id": "58ae4cd6",
   "metadata": {},
   "outputs": [],
   "source": [
    "# creating a subset of non-native speakers\n",
    "nonnatives = distances_df[distances_df['level'] != 'nat']\n",
    "\n",
    "# sns.scatterplot(x=range(len(nonnatives)),\n",
    "#                 y=nonnatives[\"distance\"],\n",
    "#                 c=nonnatives[\"color\"], marker='o')\n",
    "fig, ax = plt.subplots()\n",
    "ax.scatter(x=range(len(nonnatives)), y=nonnatives[\"distance\"], c=nonnatives[\"color\"])"
   ]
  },
  {
   "cell_type": "code",
   "execution_count": null,
   "id": "a113b02e",
   "metadata": {},
   "outputs": [],
   "source": [
    "sns.boxplot(x='level', y='distance', data=nonnatives)"
   ]
  },
  {
   "cell_type": "code",
   "execution_count": null,
   "id": "643672bc",
   "metadata": {},
   "outputs": [],
   "source": [
    "pred_centroid = []\n",
    "\n",
    "for i, row in distances_df.iterrows():\n",
    "    dist = row['distance']\n",
    "    \n",
    "    dist_dict = {\n",
    "        'high': abs(high_centroid - dist),\n",
    "        'med': abs(med_centroid - dist),\n",
    "        'low': abs(low_centroid - dist)\n",
    "    }\n",
    "    max_centroid = sorted(dist_dict, key=lambda x: dist_dict[x])[0]\n",
    "    pred_centroid.append(max_centroid)\n",
    "distances_df['pred centroid'] = pred_centroid"
   ]
  },
  {
   "cell_type": "code",
   "execution_count": null,
   "id": "95bf6ce5",
   "metadata": {},
   "outputs": [],
   "source": [
    "print(\"Overall accuracy of the approach: {:.2%}\".format(\n",
    "    accuracy_score(distances_df['level'], distances_df['pred centroid'])))"
   ]
  },
  {
   "cell_type": "code",
   "execution_count": null,
   "id": "1afbf8a9",
   "metadata": {},
   "outputs": [],
   "source": [
    "high_df = distances_df[distances_df['level'] == 'high']\n",
    "print(\"Accuracy for high level: {:.2%}\".format(\n",
    "    accuracy_score(high_df['level'], high_df['pred centroid'])))"
   ]
  },
  {
   "cell_type": "code",
   "execution_count": null,
   "id": "0da0b8f3",
   "metadata": {},
   "outputs": [],
   "source": [
    "med_df = distances_df[distances_df['level'] == 'med']\n",
    "print(\"Accuracy for high level: {:.2%}\".format(\n",
    "    accuracy_score(med_df['level'], med_df['pred centroid'])))"
   ]
  },
  {
   "cell_type": "code",
   "execution_count": null,
   "id": "50cbdc1a",
   "metadata": {},
   "outputs": [],
   "source": [
    "low_df = distances_df[distances_df['level'] == 'low']\n",
    "print(\"Accuracy for high level: {:.2%}\".format(\n",
    "    accuracy_score(low_df['level'], low_df['pred centroid'])))"
   ]
  },
  {
   "cell_type": "code",
   "execution_count": null,
   "id": "9ecf6619",
   "metadata": {},
   "outputs": [],
   "source": [
    "print(classification_report(distances_df['level'], distances_df['pred centroid']))"
   ]
  },
  {
   "cell_type": "code",
   "execution_count": null,
   "id": "9a352746",
   "metadata": {},
   "outputs": [],
   "source": []
  }
 ],
 "metadata": {
  "kernelspec": {
   "display_name": "Python 3 (ipykernel)",
   "language": "python",
   "name": "python3"
  },
  "language_info": {
   "codemirror_mode": {
    "name": "ipython",
    "version": 3
   },
   "file_extension": ".py",
   "mimetype": "text/x-python",
   "name": "python",
   "nbconvert_exporter": "python",
   "pygments_lexer": "ipython3",
   "version": "3.9.7"
  }
 },
 "nbformat": 4,
 "nbformat_minor": 5
}
