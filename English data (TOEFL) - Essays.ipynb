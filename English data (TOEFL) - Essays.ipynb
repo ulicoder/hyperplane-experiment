{
 "cells": [
  {
   "cell_type": "code",
   "execution_count": 1,
   "id": "426a80aa",
   "metadata": {},
   "outputs": [],
   "source": [
    "import os\n",
    "import pickle\n",
    "import random\n",
    "import pandas as pd\n",
    "import numpy as np\n",
    "from matplotlib import pyplot as plt\n",
    "import seaborn as sns"
   ]
  },
  {
   "cell_type": "code",
   "execution_count": 2,
   "id": "b48da8d2",
   "metadata": {},
   "outputs": [],
   "source": [
    "random.seed(2022)"
   ]
  },
  {
   "cell_type": "markdown",
   "id": "9607855f",
   "metadata": {},
   "source": [
    "### Loading data"
   ]
  },
  {
   "cell_type": "code",
   "execution_count": 3,
   "id": "9d51b1b2",
   "metadata": {},
   "outputs": [],
   "source": [
    "# load part-of-speech triplets and function words;\n",
    "# they will later be used as features\n",
    "\n",
    "POS_TRIGRAMS = pickle.load(open('english/pos_trigrams.pkl', 'rb'))\n",
    "FUNCTION_WORDS = pickle.load(open('english/function_words.pkl', 'rb'))"
   ]
  },
  {
   "cell_type": "code",
   "execution_count": 4,
   "id": "e5cc8f8d",
   "metadata": {},
   "outputs": [],
   "source": [
    "toefl_dir = \"../data/toefl/\"\n",
    "locness_dir = \"../data/locness/\"\n",
    "\n",
    "toefl_meta = \"/home/uliana/Dropbox/Projects/EFL/TOEFL/TOEFL/data/index.csv\""
   ]
  },
  {
   "cell_type": "code",
   "execution_count": 5,
   "id": "230923a1",
   "metadata": {},
   "outputs": [],
   "source": [
    "# read metadata of the TOEFL corpus\n",
    "metadata = pd.read_csv(toefl_meta)"
   ]
  },
  {
   "cell_type": "code",
   "execution_count": 6,
   "id": "4f00c562",
   "metadata": {},
   "outputs": [],
   "source": [
    "# load texts from the TOEFL corpus\n",
    "\n",
    "metadata['Filename'] = toefl_dir + metadata['Filename']\n",
    "by_level = metadata.groupby('Score Level')\n",
    "\n",
    "files_high = metadata.loc[by_level.groups['high'], 'Filename']\n",
    "files_medium = metadata.loc[by_level.groups['medium'], 'Filename']\n",
    "files_low = metadata.loc[by_level.groups['low'], 'Filename']"
   ]
  },
  {
   "cell_type": "code",
   "execution_count": 7,
   "id": "df52cb81",
   "metadata": {},
   "outputs": [],
   "source": [
    "# load texts from the LOCNESS corpus\n",
    "files_native = os.listdir(locness_dir)\n",
    "files_native = [locness_dir + file for file in files_native]"
   ]
  },
  {
   "cell_type": "code",
   "execution_count": 9,
   "id": "f3434b41",
   "metadata": {},
   "outputs": [],
   "source": [
    "def load_essays(files):\n",
    "    for file in files:\n",
    "        with open(file, 'r') as f:\n",
    "            yield f.read().strip().replace(\"\\n\", \" \")            "
   ]
  },
  {
   "cell_type": "code",
   "execution_count": 17,
   "id": "701da5a9",
   "metadata": {},
   "outputs": [],
   "source": [
    "high = load_essays(files_high)"
   ]
  },
  {
   "cell_type": "code",
   "execution_count": 42,
   "id": "1e3ff0b1",
   "metadata": {},
   "outputs": [
    {
     "name": "stdout",
     "output_type": "stream",
     "text": [
      "Number of essays on level NATIVE: 412\n",
      "Number of essays on level HIGH: 4202\n",
      "Number of essays on level MEDIUM: 6568\n",
      "Number of essays on level LOW: 1330\n"
     ]
    }
   ],
   "source": [
    "essays_high = list(load_essays(files_high))\n",
    "essays_medium = list(load_essays(files_medium))\n",
    "essays_low = list(load_essays(files_low))\n",
    "essays_native = list(load_essays(files_native))\n",
    "\n",
    "print(f\"Number of essays on level NATIVE: {len(essays_native)}\")\n",
    "print(f\"Number of essays on level HIGH: {len(essays_high)}\")\n",
    "print(f\"Number of essays on level MEDIUM: {len(essays_medium)}\")\n",
    "print(f\"Number of essays on level LOW: {len(essays_low)}\")"
   ]
  },
  {
   "cell_type": "markdown",
   "id": "ba9bbc6d",
   "metadata": {},
   "source": [
    "### Extract features"
   ]
  },
  {
   "cell_type": "code",
   "execution_count": 43,
   "id": "2ef5297b",
   "metadata": {},
   "outputs": [],
   "source": [
    "import scipy\n",
    "from sklearn.feature_extraction.text import TfidfVectorizer"
   ]
  },
  {
   "cell_type": "code",
   "execution_count": 44,
   "id": "a53726af",
   "metadata": {},
   "outputs": [],
   "source": [
    "def get_function_words(chunk):\n",
    "    words = [word.split(\"_\")[0] for word in chunk]\n",
    "    words = [word for word in words if word in FUNCTION_WORDS]\n",
    "    return \" \".join(words)\n",
    "\n",
    "def get_pos(chunk):\n",
    "    words = [word.split(\"_\")[1] for word in chunk]\n",
    "    return \" \".join(words)\n",
    "\n",
    "def get_labels(label, chunks):\n",
    "    return [label for i in range(len(chunks))]"
   ]
  },
  {
   "cell_type": "code",
   "execution_count": 45,
   "id": "ddd2775c",
   "metadata": {},
   "outputs": [
    {
     "name": "stdout",
     "output_type": "stream",
     "text": [
      "12512\n"
     ]
    }
   ],
   "source": [
    "# create a vector of labels for each class\n",
    "labels = ([\"low\"] * len(essays_low) +\n",
    "          [\"med\"] * len(essays_medium) +\n",
    "          [\"high\"] *len(essays_high) +\n",
    "          [\"nat\"] * len(essays_native))\n",
    "print(len(labels))"
   ]
  },
  {
   "cell_type": "code",
   "execution_count": 46,
   "id": "a351d5c0",
   "metadata": {},
   "outputs": [],
   "source": [
    "fw_vectors = []\n",
    "pos_vectors = []\n",
    "\n",
    "for essay in essays_low + essays_medium + essays_high + essays_native:\n",
    "    fw = get_function_words(essay.split())\n",
    "    fw_vectors.append(fw)\n",
    "    \n",
    "    pos = get_pos(essay.split())\n",
    "    pos_vectors.append(pos)"
   ]
  },
  {
   "cell_type": "code",
   "execution_count": 47,
   "id": "cf5c1dea",
   "metadata": {},
   "outputs": [
    {
     "data": {
      "text/plain": [
       "(12512, 12512)"
      ]
     },
     "execution_count": 47,
     "metadata": {},
     "output_type": "execute_result"
    }
   ],
   "source": [
    "len(fw_vectors), len(pos_vectors)"
   ]
  },
  {
   "cell_type": "markdown",
   "id": "5452648c",
   "metadata": {},
   "source": [
    "#### TF-IDF transformation"
   ]
  },
  {
   "cell_type": "code",
   "execution_count": 48,
   "id": "b7184700",
   "metadata": {},
   "outputs": [
    {
     "data": {
      "text/plain": [
       "<12512x375 sparse matrix of type '<class 'numpy.float64'>'\n",
       "\twith 721492 stored elements in Compressed Sparse Row format>"
      ]
     },
     "execution_count": 48,
     "metadata": {},
     "output_type": "execute_result"
    }
   ],
   "source": [
    "# perform TF-IDF transformation on function words vectors\n",
    "fw_vectorizer = TfidfVectorizer()\n",
    "fw_vectorizer.fit(fw_vectors)\n",
    "fw_corpus = fw_vectorizer.transform(fw_vectors)\n",
    "fw_corpus"
   ]
  },
  {
   "cell_type": "code",
   "execution_count": 49,
   "id": "05a07168",
   "metadata": {},
   "outputs": [
    {
     "data": {
      "text/plain": [
       "array(['about', 'above', 'accordingly', 'actual', 'actually', 'after',\n",
       "       'afterward', 'afterwards', 'again', 'against'], dtype=object)"
      ]
     },
     "execution_count": 49,
     "metadata": {},
     "output_type": "execute_result"
    }
   ],
   "source": [
    "fw_vectorizer.get_feature_names_out()[:10]"
   ]
  },
  {
   "cell_type": "code",
   "execution_count": 50,
   "id": "7e074353",
   "metadata": {},
   "outputs": [
    {
     "data": {
      "text/plain": [
       "<12512x2839 sparse matrix of type '<class 'numpy.float64'>'\n",
       "\twith 2242329 stored elements in Compressed Sparse Row format>"
      ]
     },
     "execution_count": 50,
     "metadata": {},
     "output_type": "execute_result"
    }
   ],
   "source": [
    "# perform TF-IDF transformation on PoS vectors\n",
    "\n",
    "pos_vectorizer = TfidfVectorizer(ngram_range=(3,3))\n",
    "pos_vectorizer.fit(pos_vectors)\n",
    "pos_corpus = pos_vectorizer.transform(pos_vectors)\n",
    "pos_corpus"
   ]
  },
  {
   "cell_type": "code",
   "execution_count": 51,
   "id": "3c3fab7a",
   "metadata": {},
   "outputs": [
    {
     "data": {
      "text/plain": [
       "array(['adj adj adj', 'adj adj adp', 'adj adj adv', ...,\n",
       "       'verb verb propn', 'verb verb sconj', 'verb verb verb'],\n",
       "      dtype=object)"
      ]
     },
     "execution_count": 51,
     "metadata": {},
     "output_type": "execute_result"
    }
   ],
   "source": [
    "pos_vectorizer.get_feature_names_out()"
   ]
  },
  {
   "cell_type": "code",
   "execution_count": 52,
   "id": "ef3d7900",
   "metadata": {},
   "outputs": [
    {
     "name": "stdout",
     "output_type": "stream",
     "text": [
      "375\n",
      "2839\n"
     ]
    }
   ],
   "source": [
    "print(len(fw_vectorizer.get_feature_names_out()))\n",
    "print(len(pos_vectorizer.get_feature_names_out()))"
   ]
  },
  {
   "cell_type": "code",
   "execution_count": 53,
   "id": "6d5bc048",
   "metadata": {},
   "outputs": [
    {
     "data": {
      "text/plain": [
       "<12512x3214 sparse matrix of type '<class 'numpy.float64'>'\n",
       "\twith 2963821 stored elements in Compressed Sparse Row format>"
      ]
     },
     "execution_count": 53,
     "metadata": {},
     "output_type": "execute_result"
    }
   ],
   "source": [
    "# for each essay, combine two vectors into one\n",
    "corpus = scipy.sparse.hstack([fw_corpus, pos_corpus], format='csr')\n",
    "corpus"
   ]
  },
  {
   "cell_type": "code",
   "execution_count": 54,
   "id": "2d29405d",
   "metadata": {},
   "outputs": [
    {
     "name": "stdout",
     "output_type": "stream",
     "text": [
      "Total number of essays: 12512.\n",
      "Total number of features: 3214.\n"
     ]
    }
   ],
   "source": [
    "print(f\"Total number of essays: {corpus.shape[0]}.\")\n",
    "print(f\"Total number of features: {corpus.shape[1]}.\")"
   ]
  },
  {
   "cell_type": "markdown",
   "id": "26daa2c1",
   "metadata": {},
   "source": [
    "### Oversampling"
   ]
  },
  {
   "cell_type": "code",
   "execution_count": 55,
   "id": "4e6aaee8",
   "metadata": {},
   "outputs": [],
   "source": [
    "from collections import Counter\n",
    "from imblearn.over_sampling import SMOTE\n",
    "from imblearn.under_sampling import RandomUnderSampler, ClusterCentroids"
   ]
  },
  {
   "cell_type": "code",
   "execution_count": 56,
   "id": "d406e4ea",
   "metadata": {},
   "outputs": [
    {
     "name": "stdout",
     "output_type": "stream",
     "text": [
      "Number of observations per class:\n",
      "\tlow\t1330\n",
      "\tmed\t6568\n",
      "\thigh\t4202\n",
      "\tnat\t412\n"
     ]
    }
   ],
   "source": [
    "labels_counter = Counter(labels)\n",
    "\n",
    "print(\"Number of observations per class:\")\n",
    "for key in labels_counter:\n",
    "    print(f\"\\t{key}\\t{labels_counter[key]}\")"
   ]
  },
  {
   "cell_type": "markdown",
   "id": "f245ee29",
   "metadata": {},
   "source": [
    "#### Create one class for non-native essays"
   ]
  },
  {
   "cell_type": "code",
   "execution_count": 57,
   "id": "841b0cc8",
   "metadata": {},
   "outputs": [
    {
     "name": "stdout",
     "output_type": "stream",
     "text": [
      "Number of observations per class:\n",
      "\tnnat\t12100\n",
      "\tnat\t412\n"
     ]
    }
   ],
   "source": [
    "y = np.array(labels)\n",
    "y[np.where(y != \"nat\")] = \"nnat\"\n",
    "\n",
    "labels_counter = Counter(y)\n",
    "print(\"Number of observations per class:\")\n",
    "for key in labels_counter:\n",
    "    print(f\"\\t{key}\\t{labels_counter[key]}\")"
   ]
  },
  {
   "cell_type": "code",
   "execution_count": 59,
   "id": "7f925aea",
   "metadata": {},
   "outputs": [
    {
     "name": "stdout",
     "output_type": "stream",
     "text": [
      "Number of observations per class after undersampling:\n",
      "\tnat\t412\n",
      "\tnnat\t412\n"
     ]
    }
   ],
   "source": [
    "undersample = RandomUnderSampler(random_state=2022)\n",
    "X_resampled, y_resampled = undersample.fit_resample(corpus, y)\n",
    "\n",
    "labels_counter = Counter(y_resampled)\n",
    "print(\"Number of observations per class after undersampling:\")\n",
    "for key in labels_counter:\n",
    "    print(f\"\\t{key}\\t{labels_counter[key]}\")"
   ]
  },
  {
   "cell_type": "markdown",
   "id": "c42be3c8",
   "metadata": {},
   "source": [
    "### Classification"
   ]
  },
  {
   "cell_type": "code",
   "execution_count": 60,
   "id": "df030ef7",
   "metadata": {},
   "outputs": [],
   "source": [
    "from sklearn.model_selection import StratifiedShuffleSplit\n",
    "from sklearn.svm import LinearSVC\n",
    "from sklearn.linear_model import LogisticRegression\n",
    "from sklearn.metrics import accuracy_score, precision_score, recall_score, f1_score"
   ]
  },
  {
   "cell_type": "code",
   "execution_count": 61,
   "id": "f2516007",
   "metadata": {},
   "outputs": [
    {
     "name": "stdout",
     "output_type": "stream",
     "text": [
      "Accuracy: = 0.948 \tF-score = 0.948\n",
      "Accuracy: = 0.921 \tF-score = 0.921\n",
      "Accuracy: = 0.927 \tF-score = 0.927\n",
      "Accuracy: = 0.948 \tF-score = 0.948\n",
      "Accuracy: = 0.939 \tF-score = 0.939\n",
      "Accuracy: = 0.955 \tF-score = 0.955\n",
      "Accuracy: = 0.958 \tF-score = 0.958\n",
      "Accuracy: = 0.930 \tF-score = 0.930\n",
      "Accuracy: = 0.936 \tF-score = 0.936\n",
      "Accuracy: = 0.955 \tF-score = 0.955\n"
     ]
    }
   ],
   "source": [
    "fold = StratifiedShuffleSplit(n_splits=10, test_size=0.4, random_state=0)\n",
    "clf = LogisticRegression()\n",
    "\n",
    "for train_idx, test_idx in fold.split(X_resampled, y_resampled):\n",
    "    X_train, X_test = X_resampled[train_idx], X_resampled[test_idx]\n",
    "    y_train, y_test = y_resampled[train_idx], y_resampled[test_idx]\n",
    "    clf.fit(X_train, y_train)\n",
    "    y_pred = clf.predict(X_test)\n",
    "    print(\"Accuracy: = {:.3f}\".format(clf.score(X_test, y_test)), end=' \\t')\n",
    "    print(\"F-score = {:.3f}\".format(f1_score(y_test, y_pred, average='micro')))"
   ]
  },
  {
   "cell_type": "code",
   "execution_count": 62,
   "id": "19dcbc79",
   "metadata": {},
   "outputs": [
    {
     "name": "stdout",
     "output_type": "stream",
     "text": [
      "Accuracy: = 0.956 \tF-score = 0.956\n",
      "Accuracy: = 0.960 \tF-score = 0.960\n",
      "Accuracy: = 0.948 \tF-score = 0.948\n",
      "Accuracy: = 0.976 \tF-score = 0.976\n",
      "Accuracy: = 0.976 \tF-score = 0.976\n",
      "Accuracy: = 0.948 \tF-score = 0.948\n",
      "Accuracy: = 0.956 \tF-score = 0.956\n",
      "Accuracy: = 0.968 \tF-score = 0.968\n",
      "Accuracy: = 0.952 \tF-score = 0.952\n",
      "Accuracy: = 0.940 \tF-score = 0.940\n"
     ]
    }
   ],
   "source": [
    "fold = StratifiedShuffleSplit(n_splits=10, test_size=0.3, random_state=0)\n",
    "clf = LinearSVC()\n",
    "\n",
    "for train_idx, test_idx in fold.split(X_resampled, y_resampled):\n",
    "    X_train, X_test = X_resampled[train_idx], X_resampled[test_idx]\n",
    "    y_train, y_test = y_resampled[train_idx], y_resampled[test_idx]\n",
    "    clf.fit(X_train, y_train)\n",
    "    y_pred = clf.predict(X_test)\n",
    "    print(\"Accuracy: = {:.3f}\".format(clf.score(X_test, y_test)), end=' \\t')\n",
    "    print(\"F-score = {:.3f}\".format(f1_score(y_test, y_pred, average='micro')))"
   ]
  },
  {
   "cell_type": "code",
   "execution_count": 63,
   "id": "2d284795",
   "metadata": {},
   "outputs": [],
   "source": [
    "def get_distance(clf, point):\n",
    "    dfunc = clf.decision_function(point)\n",
    "    w_norm = np.linalg.norm(clf.coef_)\n",
    "    dist = dfunc / w_norm\n",
    "    return dist"
   ]
  },
  {
   "cell_type": "code",
   "execution_count": 64,
   "id": "01828cb8",
   "metadata": {},
   "outputs": [],
   "source": [
    "orig_y = np.array(labels)"
   ]
  },
  {
   "cell_type": "code",
   "execution_count": 65,
   "id": "34191f2b",
   "metadata": {},
   "outputs": [
    {
     "name": "stdout",
     "output_type": "stream",
     "text": [
      "Proficiency level: low\n",
      "----------------------\n",
      "Median distance from hyperplane: 0.1246\n",
      "Mean distance from hyperplane: 0.1222\n",
      "MAD: 0.0374\n"
     ]
    }
   ],
   "source": [
    "points_low = corpus[np.where(orig_y == \"low\")]\n",
    "dist = get_distance(clf, points_low)\n",
    "print(\"Proficiency level: low\\n----------------------\")\n",
    "print(f\"Median distance from hyperplane: {np.median(dist).round(4)}\")\n",
    "print(f\"Mean distance from hyperplane: {np.mean(dist).round(4)}\")\n",
    "print(\"MAD:\", scipy.stats.median_abs_deviation(dist).round(4))"
   ]
  },
  {
   "cell_type": "code",
   "execution_count": 66,
   "id": "95a4e86f",
   "metadata": {},
   "outputs": [
    {
     "name": "stdout",
     "output_type": "stream",
     "text": [
      "Proficiency level: medium\n",
      "-------------------------\n",
      "Median distance from hyperplane: 0.1089\n",
      "Mean distance from hyperplane: 0.1085\n",
      "MAD: 0.0355\n"
     ]
    }
   ],
   "source": [
    "points_med = corpus[np.where(orig_y == \"med\")]\n",
    "dist = get_distance(clf, points_med)\n",
    "print(\"Proficiency level: medium\\n-------------------------\")\n",
    "print(f\"Median distance from hyperplane: {np.median(dist).round(4)}\")\n",
    "print(f\"Mean distance from hyperplane: {np.mean(dist).round(4)}\")\n",
    "print(\"MAD:\", scipy.stats.median_abs_deviation(dist).round(4))"
   ]
  },
  {
   "cell_type": "code",
   "execution_count": 67,
   "id": "1b3be6b0",
   "metadata": {},
   "outputs": [
    {
     "name": "stdout",
     "output_type": "stream",
     "text": [
      "Proficiency level: high\n",
      "-----------------------\n",
      "Median distance from hyperplane: 0.0809\n",
      "Mean distance from hyperplane: 0.0795\n",
      "MAD: 0.0368\n"
     ]
    }
   ],
   "source": [
    "points_high = corpus[np.where(orig_y == \"high\")]\n",
    "dist = get_distance(clf, points_high)\n",
    "print(\"Proficiency level: high\\n-----------------------\")\n",
    "print(f\"Median distance from hyperplane: {np.median(dist).round(4)}\")\n",
    "print(f\"Mean distance from hyperplane: {np.mean(dist).round(4)}\")\n",
    "print(\"MAD:\", scipy.stats.median_abs_deviation(dist).round(4))"
   ]
  },
  {
   "cell_type": "code",
   "execution_count": 68,
   "id": "774d2667",
   "metadata": {},
   "outputs": [
    {
     "name": "stdout",
     "output_type": "stream",
     "text": [
      "Proficiency level: native\n",
      "-------------------------\n",
      "Median distance from hyperplane: -0.0998\n",
      "Mean distance from hyperplane: -0.1082\n",
      "MAD: 0.025\n"
     ]
    }
   ],
   "source": [
    "points_nat = corpus[np.where(orig_y == \"nat\")]\n",
    "dist = get_distance(clf, points_nat)\n",
    "print(\"Proficiency level: native\\n-------------------------\")\n",
    "print(f\"Median distance from hyperplane: {np.median(dist).round(4)}\")\n",
    "print(f\"Mean distance from hyperplane: {np.mean(dist).round(4)}\")\n",
    "print(\"MAD:\", scipy.stats.median_abs_deviation(dist).round(4))"
   ]
  },
  {
   "cell_type": "markdown",
   "id": "679bdef4",
   "metadata": {},
   "source": [
    "## Distribution of distances"
   ]
  },
  {
   "cell_type": "code",
   "execution_count": 69,
   "id": "85b7b02b",
   "metadata": {},
   "outputs": [
    {
     "data": {
      "text/html": [
       "<div>\n",
       "<style scoped>\n",
       "    .dataframe tbody tr th:only-of-type {\n",
       "        vertical-align: middle;\n",
       "    }\n",
       "\n",
       "    .dataframe tbody tr th {\n",
       "        vertical-align: top;\n",
       "    }\n",
       "\n",
       "    .dataframe thead th {\n",
       "        text-align: right;\n",
       "    }\n",
       "</style>\n",
       "<table border=\"1\" class=\"dataframe\">\n",
       "  <thead>\n",
       "    <tr style=\"text-align: right;\">\n",
       "      <th></th>\n",
       "      <th>distance</th>\n",
       "      <th>level</th>\n",
       "    </tr>\n",
       "  </thead>\n",
       "  <tbody>\n",
       "    <tr>\n",
       "      <th>0</th>\n",
       "      <td>0.138074</td>\n",
       "      <td>low</td>\n",
       "    </tr>\n",
       "    <tr>\n",
       "      <th>1</th>\n",
       "      <td>0.150844</td>\n",
       "      <td>low</td>\n",
       "    </tr>\n",
       "    <tr>\n",
       "      <th>2</th>\n",
       "      <td>0.123528</td>\n",
       "      <td>low</td>\n",
       "    </tr>\n",
       "    <tr>\n",
       "      <th>3</th>\n",
       "      <td>0.056000</td>\n",
       "      <td>low</td>\n",
       "    </tr>\n",
       "    <tr>\n",
       "      <th>4</th>\n",
       "      <td>0.078732</td>\n",
       "      <td>low</td>\n",
       "    </tr>\n",
       "  </tbody>\n",
       "</table>\n",
       "</div>"
      ],
      "text/plain": [
       "   distance level\n",
       "0  0.138074   low\n",
       "1  0.150844   low\n",
       "2  0.123528   low\n",
       "3  0.056000   low\n",
       "4  0.078732   low"
      ]
     },
     "execution_count": 69,
     "metadata": {},
     "output_type": "execute_result"
    }
   ],
   "source": [
    "distances = get_distance(clf, corpus)\n",
    "distances_df = pd.DataFrame(data=zip(distances, labels), columns=['distance', 'level'])\n",
    "distances_df.head()"
   ]
  },
  {
   "cell_type": "code",
   "execution_count": 70,
   "id": "c8afeedb",
   "metadata": {},
   "outputs": [],
   "source": [
    "# apply colors for each level\n",
    "COLORS = {\n",
    "    \"low\": 'red',\n",
    "    'med': 'yellow',\n",
    "    'high': 'green',\n",
    "    'nat': 'blue'\n",
    "}\n",
    "distances_df['color'] = distances_df['level'].map(COLORS)"
   ]
  },
  {
   "cell_type": "code",
   "execution_count": 71,
   "id": "298ec595",
   "metadata": {},
   "outputs": [],
   "source": [
    "# creating a subset of non-native speakers\n",
    "nonnatives = distances_df[distances_df['level'] != 'nat']"
   ]
  },
  {
   "cell_type": "code",
   "execution_count": 72,
   "id": "35ee76d9",
   "metadata": {},
   "outputs": [
    {
     "data": {
      "text/plain": [
       "<matplotlib.collections.PathCollection at 0x7f88eb811580>"
      ]
     },
     "execution_count": 72,
     "metadata": {},
     "output_type": "execute_result"
    },
    {
     "data": {
      "image/png": "[encoded data removed]",
      "text/plain": [
       "<Figure size 432x288 with 1 Axes>"
      ]
     },
     "metadata": {
      "needs_background": "light"
     },
     "output_type": "display_data"
    }
   ],
   "source": [
    "# sns.scatterplot(x=range(len(nonnatives)),\n",
    "#                 y=nonnatives[\"distance\"],\n",
    "#                 c=nonnatives[\"color\"], marker='o')\n",
    "fig, ax = plt.subplots()\n",
    "ax.scatter(x=range(len(nonnatives)), y=nonnatives[\"distance\"], c=nonnatives[\"color\"])"
   ]
  },
  {
   "cell_type": "code",
   "execution_count": 73,
   "id": "ea106043",
   "metadata": {},
   "outputs": [
    {
     "data": {
      "text/plain": [
       "<AxesSubplot:xlabel='level', ylabel='distance'>"
      ]
     },
     "execution_count": 73,
     "metadata": {},
     "output_type": "execute_result"
    },
    {
     "data": {
      "image/png": "[encoded data removed]",
      "text/plain": [
       "<Figure size 432x288 with 1 Axes>"
      ]
     },
     "metadata": {
      "needs_background": "light"
     },
     "output_type": "display_data"
    }
   ],
   "source": [
    "sns.boxplot(x='level', y='distance', data=nonnatives)"
   ]
  },
  {
   "cell_type": "code",
   "execution_count": 74,
   "id": "98ec1192",
   "metadata": {},
   "outputs": [
    {
     "data": {
      "text/plain": [
       "<AxesSubplot:xlabel='distance', ylabel='Count'>"
      ]
     },
     "execution_count": 74,
     "metadata": {},
     "output_type": "execute_result"
    },
    {
     "data": {
      "image/png": "[encoded data removed]",
      "text/plain": [
       "<Figure size 432x288 with 1 Axes>"
      ]
     },
     "metadata": {
      "needs_background": "light"
     },
     "output_type": "display_data"
    }
   ],
   "source": [
    "sns.histplot(x='distance', data=distances_df, hue='level', kde=True, element='step')"
   ]
  },
  {
   "cell_type": "code",
   "execution_count": 75,
   "id": "0e0f9560",
   "metadata": {},
   "outputs": [],
   "source": [
    "nonatives = distances_df[distances_df['level'].isin(['low', 'med', 'high'])]"
   ]
  },
  {
   "cell_type": "code",
   "execution_count": 76,
   "id": "cd35495a",
   "metadata": {},
   "outputs": [
    {
     "data": {
      "text/plain": [
       "<AxesSubplot:xlabel='distance', ylabel='Count'>"
      ]
     },
     "execution_count": 76,
     "metadata": {},
     "output_type": "execute_result"
    },
    {
     "data": {
      "image/png": "[encoded data removed]",
      "text/plain": [
       "<Figure size 432x288 with 1 Axes>"
      ]
     },
     "metadata": {
      "needs_background": "light"
     },
     "output_type": "display_data"
    }
   ],
   "source": [
    "sns.histplot(x='distance', data=nonnatives, hue='level', kde=True,\n",
    "             element='step', bins=100)"
   ]
  },
  {
   "cell_type": "code",
   "execution_count": 77,
   "id": "2b65dc66",
   "metadata": {},
   "outputs": [
    {
     "data": {
      "text/plain": [
       "<AxesSubplot:xlabel='distance', ylabel='Count'>"
      ]
     },
     "execution_count": 77,
     "metadata": {},
     "output_type": "execute_result"
    },
    {
     "data": {
      "image/png": "[encoded data removed]",
      "text/plain": [
       "<Figure size 432x288 with 1 Axes>"
      ]
     },
     "metadata": {
      "needs_background": "light"
     },
     "output_type": "display_data"
    }
   ],
   "source": [
    "sns.histplot(x='distance', data=nonnatives, kde=True, element='step', bins=100, color='tomato')"
   ]
  },
  {
   "cell_type": "markdown",
   "id": "dd930fae",
   "metadata": {},
   "source": [
    "## Clustering"
   ]
  },
  {
   "cell_type": "code",
   "execution_count": 79,
   "id": "b7a7273a",
   "metadata": {},
   "outputs": [],
   "source": [
    "# for each chunk, get distances from the hyperplane \n",
    "low_dist = get_distance(clf, points_low)\n",
    "med_dist = get_distance(clf, points_med)\n",
    "high_dist = get_distance(clf, points_high)\n",
    "nat_dist = get_distance(clf, points_nat)"
   ]
  },
  {
   "cell_type": "code",
   "execution_count": 80,
   "id": "f5027496",
   "metadata": {},
   "outputs": [],
   "source": [
    "# calculate mean distance for each level\n",
    "low_centroid = np.mean(low_dist)\n",
    "high_centroid = np.mean(high_dist)\n",
    "med_centroid = np.mean(med_dist)"
   ]
  },
  {
   "cell_type": "code",
   "execution_count": 81,
   "id": "a1771844",
   "metadata": {},
   "outputs": [],
   "source": [
    "pred_centroid = []\n",
    "\n",
    "for i, row in distances_df.iterrows():\n",
    "    dist = row['distance']\n",
    "    \n",
    "    dist_dict = {\n",
    "        'high': abs(high_centroid - dist),\n",
    "        'med': abs(med_centroid - dist),\n",
    "        'low': abs(low_centroid - dist)\n",
    "    }\n",
    "    max_centroid = sorted(dist_dict, key=lambda x: dist_dict[x])[0]\n",
    "    pred_centroid.append(max_centroid)"
   ]
  },
  {
   "cell_type": "code",
   "execution_count": 82,
   "id": "dbcf6249",
   "metadata": {},
   "outputs": [],
   "source": [
    "distances_df['pred centroid'] = pred_centroid"
   ]
  },
  {
   "cell_type": "code",
   "execution_count": 83,
   "id": "8679458f",
   "metadata": {},
   "outputs": [
    {
     "name": "stdout",
     "output_type": "stream",
     "text": [
      "Overall accuracy of the approach: 34.44%\n"
     ]
    }
   ],
   "source": [
    "print(\"Overall accuracy of the approach: {:.2%}\".format(\n",
    "    accuracy_score(distances_df['level'], distances_df['pred centroid'])))"
   ]
  },
  {
   "cell_type": "code",
   "execution_count": 84,
   "id": "17b9e1fb",
   "metadata": {},
   "outputs": [
    {
     "name": "stdout",
     "output_type": "stream",
     "text": [
      "Accuracy for level HIGH: 59.38%\n"
     ]
    }
   ],
   "source": [
    "high_df = distances_df[distances_df['level'] == 'high']\n",
    "print(\"Accuracy for level HIGH: {:.2%}\".format(\n",
    "    accuracy_score(high_df['level'], high_df['pred centroid'])))"
   ]
  },
  {
   "cell_type": "code",
   "execution_count": 85,
   "id": "cc385d1a",
   "metadata": {},
   "outputs": [
    {
     "name": "stdout",
     "output_type": "stream",
     "text": [
      "Accuracy for level MEDIUM: 16.29%\n"
     ]
    }
   ],
   "source": [
    "med_df = distances_df[distances_df['level'] == 'med']\n",
    "print(\"Accuracy for level MEDIUM: {:.2%}\".format(\n",
    "    accuracy_score(med_df['level'], med_df['pred centroid'])))"
   ]
  },
  {
   "cell_type": "code",
   "execution_count": 86,
   "id": "14d294b3",
   "metadata": {},
   "outputs": [
    {
     "name": "stdout",
     "output_type": "stream",
     "text": [
      "Accuracy for level LOW: 55.94%\n"
     ]
    }
   ],
   "source": [
    "low_df = distances_df[distances_df['level'] == 'low']\n",
    "print(\"Accuracy for level LOW: {:.2%}\".format(\n",
    "    accuracy_score(low_df['level'], low_df['pred centroid'])))"
   ]
  },
  {
   "cell_type": "code",
   "execution_count": 88,
   "id": "03770cfc",
   "metadata": {},
   "outputs": [],
   "source": [
    "from sklearn.metrics import classification_report"
   ]
  },
  {
   "cell_type": "code",
   "execution_count": 94,
   "id": "f89e505b",
   "metadata": {},
   "outputs": [],
   "source": [
    "distances_df_nnat = distances_df[distances_df['level'] != 'nat']"
   ]
  },
  {
   "cell_type": "code",
   "execution_count": 95,
   "id": "14e1fb15",
   "metadata": {},
   "outputs": [
    {
     "name": "stdout",
     "output_type": "stream",
     "text": [
      "              precision    recall  f1-score   support\n",
      "\n",
      "        high       0.46      0.59      0.52      4202\n",
      "         low       0.16      0.56      0.24      1330\n",
      "         med       0.57      0.16      0.25      6568\n",
      "\n",
      "    accuracy                           0.36     12100\n",
      "   macro avg       0.39      0.44      0.34     12100\n",
      "weighted avg       0.48      0.36      0.34     12100\n",
      "\n"
     ]
    }
   ],
   "source": [
    "print(classification_report(distances_df_nnat['level'], distances_df_nnat['pred centroid']))"
   ]
  },
  {
   "cell_type": "code",
   "execution_count": null,
   "id": "3a1c4676",
   "metadata": {},
   "outputs": [],
   "source": []
  },
  {
   "cell_type": "markdown",
   "id": "6ecd90d1",
   "metadata": {},
   "source": [
    "### Make predictions: native vs nonnative"
   ]
  },
  {
   "cell_type": "code",
   "execution_count": 42,
   "id": "74beded2",
   "metadata": {},
   "outputs": [
    {
     "ename": "NameError",
     "evalue": "name 'clf' is not defined",
     "output_type": "error",
     "traceback": [
      "\u001b[0;31m---------------------------------------------------------------------------\u001b[0m",
      "\u001b[0;31mNameError\u001b[0m                                 Traceback (most recent call last)",
      "\u001b[0;32m/tmp/ipykernel_24259/4255076604.py\u001b[0m in \u001b[0;36m<module>\u001b[0;34m\u001b[0m\n\u001b[0;32m----> 1\u001b[0;31m \u001b[0my_pred\u001b[0m \u001b[0;34m=\u001b[0m \u001b[0mclf\u001b[0m\u001b[0;34m.\u001b[0m\u001b[0mpredict\u001b[0m\u001b[0;34m(\u001b[0m\u001b[0mcorpus\u001b[0m\u001b[0;34m)\u001b[0m\u001b[0;34m\u001b[0m\u001b[0;34m\u001b[0m\u001b[0m\n\u001b[0m\u001b[1;32m      2\u001b[0m \u001b[0my_true\u001b[0m \u001b[0;34m=\u001b[0m \u001b[0;34m[\u001b[0m\u001b[0;34m'nnat'\u001b[0m\u001b[0;34m]\u001b[0m \u001b[0;34m*\u001b[0m \u001b[0mlen\u001b[0m\u001b[0;34m(\u001b[0m\u001b[0mlabels\u001b[0m\u001b[0;34m)\u001b[0m\u001b[0;34m\u001b[0m\u001b[0;34m\u001b[0m\u001b[0m\n",
      "\u001b[0;31mNameError\u001b[0m: name 'clf' is not defined"
     ]
    }
   ],
   "source": [
    "y_pred = clf.predict(corpus)\n",
    "y_true = ['nnat'] * len(labels)"
   ]
  },
  {
   "cell_type": "code",
   "execution_count": null,
   "id": "e4d4ac45",
   "metadata": {},
   "outputs": [],
   "source": [
    "print(f\"accuracy on individual essays: {accuracy_score(y_true, y_pred):.2%}\")"
   ]
  },
  {
   "cell_type": "markdown",
   "id": "c162d2a8",
   "metadata": {},
   "source": [
    "### Clustering"
   ]
  },
  {
   "cell_type": "code",
   "execution_count": null,
   "id": "41bbd3ad",
   "metadata": {},
   "outputs": [],
   "source": [
    "distances = get_distance(clf, new_corpus)\n",
    "distances_df = pd.DataFrame(data=zip(distances, labels), columns=['distance', 'level'])\n",
    "distances_df.head()"
   ]
  },
  {
   "cell_type": "code",
   "execution_count": null,
   "id": "492c06ca",
   "metadata": {},
   "outputs": [],
   "source": [
    "# apply colors for each level\n",
    "COLORS = {\n",
    "    \"low\": 'red',\n",
    "    'med': 'yellow',\n",
    "    'high': 'green',\n",
    "    'nat': 'blue'\n",
    "}\n",
    "distances_df['color'] = distances_df['level'].map(COLORS)"
   ]
  },
  {
   "cell_type": "code",
   "execution_count": null,
   "id": "58ae4cd6",
   "metadata": {},
   "outputs": [],
   "source": [
    "# creating a subset of non-native speakers\n",
    "nonnatives = distances_df[distances_df['level'] != 'nat']\n",
    "\n",
    "# sns.scatterplot(x=range(len(nonnatives)),\n",
    "#                 y=nonnatives[\"distance\"],\n",
    "#                 c=nonnatives[\"color\"], marker='o')\n",
    "fig, ax = plt.subplots()\n",
    "ax.scatter(x=range(len(nonnatives)), y=nonnatives[\"distance\"], c=nonnatives[\"color\"])"
   ]
  },
  {
   "cell_type": "code",
   "execution_count": null,
   "id": "a113b02e",
   "metadata": {},
   "outputs": [],
   "source": [
    "sns.boxplot(x='level', y='distance', data=nonnatives)"
   ]
  },
  {
   "cell_type": "code",
   "execution_count": null,
   "id": "643672bc",
   "metadata": {},
   "outputs": [],
   "source": [
    "pred_centroid = []\n",
    "\n",
    "for i, row in distances_df.iterrows():\n",
    "    dist = row['distance']\n",
    "    \n",
    "    dist_dict = {\n",
    "        'high': abs(high_centroid - dist),\n",
    "        'med': abs(med_centroid - dist),\n",
    "        'low': abs(low_centroid - dist)\n",
    "    }\n",
    "    max_centroid = sorted(dist_dict, key=lambda x: dist_dict[x])[0]\n",
    "    pred_centroid.append(max_centroid)\n",
    "distances_df['pred centroid'] = pred_centroid"
   ]
  },
  {
   "cell_type": "code",
   "execution_count": null,
   "id": "95bf6ce5",
   "metadata": {},
   "outputs": [],
   "source": [
    "print(\"Overall accuracy of the approach: {:.2%}\".format(\n",
    "    accuracy_score(distances_df['level'], distances_df['pred centroid'])))"
   ]
  },
  {
   "cell_type": "code",
   "execution_count": null,
   "id": "1afbf8a9",
   "metadata": {},
   "outputs": [],
   "source": [
    "high_df = distances_df[distances_df['level'] == 'high']\n",
    "print(\"Accuracy for high level: {:.2%}\".format(\n",
    "    accuracy_score(high_df['level'], high_df['pred centroid'])))"
   ]
  },
  {
   "cell_type": "code",
   "execution_count": null,
   "id": "0da0b8f3",
   "metadata": {},
   "outputs": [],
   "source": [
    "med_df = distances_df[distances_df['level'] == 'med']\n",
    "print(\"Accuracy for high level: {:.2%}\".format(\n",
    "    accuracy_score(med_df['level'], med_df['pred centroid'])))"
   ]
  },
  {
   "cell_type": "code",
   "execution_count": null,
   "id": "50cbdc1a",
   "metadata": {},
   "outputs": [],
   "source": [
    "low_df = distances_df[distances_df['level'] == 'low']\n",
    "print(\"Accuracy for high level: {:.2%}\".format(\n",
    "    accuracy_score(low_df['level'], low_df['pred centroid'])))"
   ]
  },
  {
   "cell_type": "code",
   "execution_count": null,
   "id": "9ecf6619",
   "metadata": {},
   "outputs": [],
   "source": [
    "print(classification_report(distances_df['level'], distances_df['pred centroid']))"
   ]
  },
  {
   "cell_type": "code",
   "execution_count": null,
   "id": "9a352746",
   "metadata": {},
   "outputs": [],
   "source": []
  }
 ],
 "metadata": {
  "kernelspec": {
   "display_name": "Python 3 (ipykernel)",
   "language": "python",
   "name": "python3"
  },
  "language_info": {
   "codemirror_mode": {
    "name": "ipython",
    "version": 3
   },
   "file_extension": ".py",
   "mimetype": "text/x-python",
   "name": "python",
   "nbconvert_exporter": "python",
   "pygments_lexer": "ipython3",
   "version": "3.9.7"
  }
 },
 "nbformat": 4,
 "nbformat_minor": 5
}
